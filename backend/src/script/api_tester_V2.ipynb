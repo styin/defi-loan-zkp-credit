{
 "cells": [
  {
   "cell_type": "markdown",
   "id": "09f81eaa-ecd3-4bd4-b494-a9bd33503954",
   "metadata": {},
   "source": [
    "This is a chat api tester"
   ]
  },
  {
   "cell_type": "code",
   "execution_count": 6,
   "id": "fd7ff808-ce67-48ec-80b6-24f9677ddc21",
   "metadata": {},
   "outputs": [
    {
     "name": "stdout",
     "output_type": "stream",
     "text": [
      "{'message': 'Key pair generated successfully'}\n"
     ]
    }
   ],
   "source": [
    "import requests\n",
    "\n",
    "# Generate key pair\n",
    "g_name = input(\"Input your key name\")\n",
    "response = requests.post('http://localhost:5000/generate-keys', json={'pair_name': g_name})\n",
    "print(response.json())"
   ]
  },
  {
   "cell_type": "code",
   "execution_count": 13,
   "id": "d4458281-b762-4cf0-a03a-dde73018c48a",
   "metadata": {},
   "outputs": [
    {
     "name": "stdout",
     "output_type": "stream",
     "text": [
      "Get Public Key Response: {'public_key': '-----BEGIN PUBLIC KEY-----\\nMIIBIjANBgkqhkiG9w0BAQEFAAOCAQ8AMIIBCgKCAQEAu50bG7J5XgzP/yj8uad5\\njAQ5zpuObdzOSBi2sDsMYVBA3rWKgm5pFUl/ORZPF9RvOe7LTCAgcrlmbJ85RSBd\\nbgHCidQFHX6Ai6u102Kh5E4HfY3ZDzAuzJFvmlUO/Y5MrAlfm5/3zdF6WtAt9Avk\\nVYyB0zlaUvQDqSpcBiB1JMF5enhkjJq389ay9AuHw+ZV+n8e4Web3u3W27lwAUWK\\nSI/rFtDrGO6BZ2YxGfRjRYdN/flcvZTfhZTsIMjIEaL9stYyHuvnyG2B6i9nV4SW\\nbX1B8roumjQMvRGkZnXMj608PHkfWExV+SvdUd+45pAfwk2lRKuylZw5P6Y7AhZP\\nvwIDAQAB\\n-----END PUBLIC KEY-----\\n'}\n"
     ]
    }
   ],
   "source": [
    "#get public key\n",
    "import requests\n",
    "import json\n",
    "\n",
    "get_public_key_url = 'http://localhost:5000/get-public-key'\n",
    "\n",
    "k_name = input(\"Input your key name\")\n",
    "pair_name = k_name\n",
    "# Test retrieving the public key\n",
    "get_public_key_data = {'pair_name': pair_name}\n",
    "\n",
    "response = requests.post(get_public_key_url, json=get_public_key_data)\n",
    "print(f\"Get Public Key Response: {response.json()}\")"
   ]
  },
  {
   "cell_type": "code",
   "execution_count": 7,
   "id": "3a321fc4-6ecb-4b74-adce-acc9395fc102",
   "metadata": {},
   "outputs": [
    {
     "name": "stdout",
     "output_type": "stream",
     "text": [
      "Encryption package: {'encrypted_message': '809defeafcaecf42d9a074a02eac3f60', 'encrypted_symmetric_key': '1ca085b0362abd8bdae1f26694039bf3cb05b6c46109d6fba7449618ee4e811ee6c5d5dc09d4e66c20924ba643368981d687e7c24d59418c57793816c957730d6461bdd44696b2dafb05c6eb1e25cc90b54822a26c26185bc9e3e005076a785150a18f848f5d1232d73b4728a6f2cedcc77b374a7ef257b6494765557d7b04590b57a71e1d3f08c2402f8e1dd8bb64d31a79927dc9e3b788374360f9605de151326370f2b504f5600fe0829a21d0f072bc589470115d5c808ca7b36eb7b79148b501a3d7e1f689246437c67754f0c16cf2b5a331e28c37ce2cec3d1f7dcf2df04ca4c5b1252e6c5f42be7d1a7095714703895c7ea54ee5daecb938a405843945', 'signature': '6e9b7789ece8033d0f1d82f9743714d56dca3e944940c96dde0fab7b2a7a1fe8875b48f874dafa1bbd286328490f9d47c1ed47c97c0a6d0115209572f763e9b38b979fd5b1321e0657e023218a0c69350ff3febee357e4eb17799fd51bf6d172def3e3f57eaba19c5f85c1ff3c46c21c3a933720dfe873da0eaeb537683357420d1e706500cd7349306e62b2c290ab6663a8d588d1ec5ba38fca6d0acfb8a1ac1e5994b80eedf6b27c787f026069d4c239794e9e2a07929904cabecbae6dd65643468c8e53e969b48b3fff94012373a1ce586c89d42d241cc8d81e543b829d7351deb4716072f41f4120ef65907a24271050bd8915fca6c1d8a285e8692499f7'}\n"
     ]
    }
   ],
   "source": [
    "import requests\n",
    "\n",
    "# Encrypt message\n",
    "plain_message = input(\"Input your message: \")\n",
    "sender_pair_name = 'sender'  # Replace with actual sender pair name\n",
    "receiver_pair_name = 'receiver'  # Replace with actual receiver pair name\n",
    "\n",
    "try:\n",
    "    # Make sure to provide the correct JSON structure as per your Flask app's expectations\n",
    "    response = requests.post(\n",
    "        'http://localhost:5000/encrypt',\n",
    "        json={\n",
    "            'message': plain_message,\n",
    "            'sender_pair_name': sender_pair_name,\n",
    "            'receiver_pair_name': receiver_pair_name\n",
    "        }\n",
    "    )\n",
    "    response.raise_for_status()  # Raise an exception for 4xx or 5xx status codes\n",
    "    package = response.json()\n",
    "    print('Encryption package:', package)\n",
    "except requests.exceptions.RequestException as e:\n",
    "    if e.response is not None:\n",
    "        error_data = e.response.json()\n",
    "        print('Error:', error_data['error'])\n",
    "        print('Message:', error_data['message'])\n",
    "    else:\n",
    "        print('An error occurred:', str(e))"
   ]
  },
  {
   "cell_type": "code",
   "execution_count": 8,
   "id": "eb67ca05-b99a-44ca-b080-3f57b9b5b83f",
   "metadata": {},
   "outputs": [
    {
     "name": "stdout",
     "output_type": "stream",
     "text": [
      "Decrypted message: hello world\n"
     ]
    }
   ],
   "source": [
    "import requests\n",
    "\n",
    "# Decrypt message\n",
    "encrypted_package = input(\"Paste the entire encrypted package here: \")\n",
    "# convert the string representation of the dictionary into an actual dictionary\n",
    "import ast\n",
    "encrypted_package = ast.literal_eval(encrypted_package)\n",
    "\n",
    "sender_pair_name = 'sender'  # Replace with actual sender pair name\n",
    "receiver_pair_name = 'receiver'  # Replace with actual receiver pair name\n",
    "\n",
    "try:\n",
    "    # Make sure to provide the correct JSON structure as per your Flask app's expectations\n",
    "    response = requests.post(\n",
    "        'http://localhost:5000/decrypt',\n",
    "        json={\n",
    "            'package': encrypted_package,\n",
    "            'receiver_pair_name': receiver_pair_name,\n",
    "            'sender_pair_name': sender_pair_name\n",
    "        }\n",
    "    )\n",
    "    response.raise_for_status()  # Raise an exception for 4xx or 5xx status codes\n",
    "    decrypted_data = response.json()\n",
    "    print('Decrypted message:', decrypted_data['decrypted_message'])\n",
    "except requests.exceptions.RequestException as e:\n",
    "    if e.response is not None:\n",
    "        error_data = e.response.json()\n",
    "        print('Error:', error_data['error'])\n",
    "        print('Message:', error_data['message'])\n",
    "    else:\n",
    "        print('An error occurred:', str(e))"
   ]
  },
  {
   "cell_type": "markdown",
   "id": "403e4f6c-c2ea-48c2-b971-b44c12fac2a8",
   "metadata": {},
   "source": [
    "This is a ZKP api tester"
   ]
  },
  {
   "cell_type": "code",
   "execution_count": 9,
   "id": "a048348f-2fc0-4f7b-b5f0-04dd0969bc22",
   "metadata": {},
   "outputs": [],
   "source": [
    "import requests\n",
    "import json\n",
    "\n",
    "base_url = 'http://localhost:5000'\n",
    "\n",
    "def handle_error(response):\n",
    "    try:\n",
    "        error_data = response.json()\n",
    "        print('Error:', error_data['error'])\n",
    "        print('Message:', error_data['message'])\n",
    "    except json.JSONDecodeError:\n",
    "        print('Error: Invalid JSON response')\n",
    "    except KeyError:\n",
    "        print('Error: Missing keys in error response')"
   ]
  },
  {
   "cell_type": "code",
   "execution_count": 10,
   "id": "4d762f06-5329-4233-afb8-454d37c5dd6d",
   "metadata": {},
   "outputs": [
    {
     "name": "stdout",
     "output_type": "stream",
     "text": [
      "Commitments created and saved. Commitments: [125, 5, 625, 5, 3125]\n"
     ]
    }
   ],
   "source": [
    "# Test create_commitments endpoint\n",
    "try:\n",
    "    response = requests.post(f'{base_url}/create_commitments')\n",
    "    response.raise_for_status()\n",
    "    commitments = response.json()\n",
    "    print('Commitments created and saved. Commitments:', commitments)\n",
    "except requests.exceptions.RequestException as e:\n",
    "    print('Error occurred while creating commitments:')\n",
    "    handle_error(e.response)\n"
   ]
  },
  {
   "cell_type": "code",
   "execution_count": 11,
   "id": "ebb77f6f-a627-4c7f-b242-7f814f9386e2",
   "metadata": {},
   "outputs": [
    {
     "name": "stdout",
     "output_type": "stream",
     "text": [
      "Proof: {'A': [442250112937665104797351049458490185071188757182492065870506530830178481793974863823660141431906432813352384101379977432654764466535605835995191547753700, 3321325716723106335335731106392715946259451409229998688658020655654677912497918978027647382182145632051600251045624945317536446866709949925158059065779361, 2753872322977888934329636199550483645688831012831646175803549220359631193786816401652246532039356810534249257774634472451358969519305354253201041221841905, 6860716643421357514398854502428481080086432166268704814028832662160878868859084100316204973127565380703811061007571300654848564857115632110511702071433708], 'Rsum': 16781641152733134684908297261300167944895741609256604433514581561636337356006337062970286149168968580637639777754167032504764192708600944242910126260079378, 'S': [2419140286333760542898462699705166589881068024738397754796539079260194683144086343977035031795700084759691739942928066699208595566596344103825596134973604, 3614358132825761772406168322881049142257694831771847326669116024963112480048189653335158620645469636311595900169923483536142778033815165357968952805747749, 6873448074767494970152309211932561547407937561766000284736449265220694571498443231644828113400291318505496579169501653339395155781563621112829099553459597, 3874694658806117399451357026781390665349041190980359067312477192192335621316437969075459197607656929712014509138583540710545543402895099182449285123072109], 'c': 9}\n"
     ]
    }
   ],
   "source": [
    "# Test prover endpoint\n",
    "try:\n",
    "    positions = [0, 1, 2, 3]\n",
    "    payload = {'positions': positions}\n",
    "    response = requests.post(f'{base_url}/prover', json=payload)\n",
    "    response.raise_for_status()\n",
    "    proof = response.json()\n",
    "    print('Proof:', proof)\n",
    "except requests.exceptions.RequestException as e:\n",
    "    print('Error occurred while generating proof:')\n",
    "    handle_error(e.response)\n"
   ]
  },
  {
   "cell_type": "code",
   "execution_count": 12,
   "id": "5e29eea8-7d9d-42d0-a904-d7f643eb4d48",
   "metadata": {},
   "outputs": [
    {
     "name": "stdout",
     "output_type": "stream",
     "text": [
      "Proof verified successfully\n"
     ]
    }
   ],
   "source": [
    "# Test verifier endpoint\n",
    "try:\n",
    "    # Read proof.json\n",
    "    with open('proof.json', 'r') as proof_file:\n",
    "        proof = json.load(proof_file)\n",
    "    \n",
    "    # Read Y.json\n",
    "    with open('Y.json', 'r') as y_file:\n",
    "        Y = json.load(y_file)\n",
    "    \n",
    "    positions = [0, 1, 2, 3]\n",
    "    \n",
    "    # Extract the corresponding Y values based on the positions\n",
    "    Y_selected = [Y[pos] for pos in positions]\n",
    "    \n",
    "    # Send POST request to verify the proof\n",
    "    payload = {'proof': proof, 'Y_selected': Y_selected}\n",
    "    response = requests.post(f'{base_url}/verifier', json=payload)\n",
    "    \n",
    "    verification_passed = response.json()['verification_passed']\n",
    "    \n",
    "    if verification_passed:\n",
    "        print(\"Proof verified successfully\")\n",
    "    else:\n",
    "        print(\"Proof verification failed\")\n",
    "        \n",
    "except requests.exceptions.RequestException as e:\n",
    "    print('Error occurred during verification:')\n",
    "    handle_error(e.response)"
   ]
  },
  {
   "cell_type": "code",
   "execution_count": null,
   "id": "e3271613-93d5-4b28-9f7b-bda64f8abcc1",
   "metadata": {},
   "outputs": [],
   "source": []
  }
 ],
 "metadata": {
  "kernelspec": {
   "display_name": "Python 3 (ipykernel)",
   "language": "python",
   "name": "python3"
  },
  "language_info": {
   "codemirror_mode": {
    "name": "ipython",
    "version": 3
   },
   "file_extension": ".py",
   "mimetype": "text/x-python",
   "name": "python",
   "nbconvert_exporter": "python",
   "pygments_lexer": "ipython3",
   "version": "3.12.2"
  }
 },
 "nbformat": 4,
 "nbformat_minor": 5
}
